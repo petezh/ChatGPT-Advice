{
 "cells": [
  {
   "attachments": {},
   "cell_type": "markdown",
   "metadata": {},
   "source": [
    "Model Output Analysis\n",
    "---\n",
    "Author: Peter Zhang\n",
    "\n",
    "This notebook analyzes the outputs of models from different prompt strategies."
   ]
  },
  {
   "attachments": {},
   "cell_type": "markdown",
   "metadata": {},
   "source": [
    "# Setup"
   ]
  },
  {
   "cell_type": "code",
   "execution_count": null,
   "metadata": {},
   "outputs": [],
   "source": [
    "import math\n",
    "from os.path import join\n",
    "\n",
    "import matplotlib.pyplot as plt\n",
    "import pandas as pd\n",
    "import seaborn as sns\n",
    "from scipy.stats import ttest_ind, spearmanr\n",
    "\n",
    "import config"
   ]
  },
  {
   "cell_type": "code",
   "execution_count": null,
   "metadata": {},
   "outputs": [],
   "source": [
    "plt.rcParams['figure.dpi'] = 300\n",
    "plt.rcParams['savefig.dpi'] = 300"
   ]
  },
  {
   "cell_type": "code",
   "execution_count": null,
   "metadata": {},
   "outputs": [],
   "source": [
    "data_folder = \"../data/model_output\"\n",
    "scratchpad_result_file = join(data_folder, \"results_scratchpad_0218.csv\")\n",
    "baseline_result_file = join(data_folder, \"results_baseline_0217.csv\")\n",
    "scratchpad_df = pd.read_csv(scratchpad_result_file)\n",
    "scratchpad_df['method'] = 'CoT'\n",
    "baseline_df = pd.read_csv(baseline_result_file)\n",
    "baseline_df['method'] = 'standard'\n",
    "answer_df = pd.concat([scratchpad_df, baseline_df])"
   ]
  },
  {
   "attachments": {},
   "cell_type": "markdown",
   "metadata": {},
   "source": [
    "# Analysis"
   ]
  },
  {
   "cell_type": "code",
   "execution_count": null,
   "metadata": {},
   "outputs": [],
   "source": [
    "answer_df['is_correct'] = answer_df['answer'] == answer_df['correct_answer']\n",
    "answer_df = answer_df[answer_df['topic'].isin(config.topics)]"
   ]
  },
  {
   "cell_type": "code",
   "execution_count": null,
   "metadata": {},
   "outputs": [],
   "source": [
    "# t-test for significant difference by topic\n",
    "sig_topics = []\n",
    "for topic in config.topics:\n",
    "    scratchpad_correct = answer_df[(answer_df['topic']==topic) & (answer_df['method']=='CoT')]['is_correct']\n",
    "    baseline_correct = answer_df[(answer_df['topic']==topic) & (answer_df['method']=='standard')]['is_correct']\n",
    "    t, p = ttest_ind(scratchpad_correct, baseline_correct)\n",
    "    if p < 0.10:\n",
    "        sig_topics.append(topic)"
   ]
  },
  {
   "cell_type": "code",
   "execution_count": null,
   "metadata": {},
   "outputs": [],
   "source": [
    "plt.figure(figsize=(6, 6))\n",
    "g = sns.pointplot(data=answer_df, x='is_correct', y='topic', hue='method', dodge=True, join=False, errorbar=('ci',95), orient='h')\n",
    "\n",
    "# bold sig topics\n",
    "for tick in g.get_yticklabels():\n",
    "    if tick.get_text() in sig_topics:\n",
    "        tick.set_fontweight('bold')\n",
    "\n",
    "# rename x labels\n",
    "labels = [config.topic2display[t] for t in config.topics]\n",
    "g.set_yticklabels(labels)\n",
    "\n",
    "\n",
    "plt.xticks(rotation=90)\n",
    "# show display topics on labels\n",
    "plt.xlabel('Accuracy\\n(95% CI)')\n",
    "plt.ylabel(\"Topic\\n(p < 0.10)\")\n",
    "plt.title('Accuracy by Topic')\n",
    "plt.tight_layout()\n",
    "plt.savefig('../figures/model_accuracy_by_topic.png')\n",
    "plt.show()"
   ]
  },
  {
   "cell_type": "code",
   "execution_count": null,
   "metadata": {},
   "outputs": [],
   "source": [
    "answer_df['category'] = answer_df['topic'].apply(config.topic2category.get)\n",
    "cat2pvalue = {}\n",
    "for category in answer_df['category'].unique():\n",
    "    scratchpad_correct = answer_df[(answer_df['category']==category) & (answer_df['method']=='CoT')]['is_correct']\n",
    "    baseline_correct = answer_df[(answer_df['category']==category) & (answer_df['method']=='standard')]['is_correct']\n",
    "    t, p = ttest_ind(scratchpad_correct, baseline_correct)\n",
    "    cat2pvalue[category] = p"
   ]
  },
  {
   "cell_type": "code",
   "execution_count": null,
   "metadata": {},
   "outputs": [],
   "source": [
    "# plot by category\n",
    "plt.figure(figsize=(4,6))\n",
    "g = sns.pointplot(data=answer_df, x='category', y='is_correct', hue='method', dodge=True, join=False, errorbar=('ci',95))\n",
    "\n",
    "# bold sig topics\n",
    "for tick in g.get_xticklabels():\n",
    "    if tick.get_text() in cat2pvalue and cat2pvalue[tick.get_text()] < 0.10:\n",
    "        tick.set_fontweight('bold')\n",
    "\n",
    "# add p value to labels\n",
    "labels = [config.category2display[t] + f\"\\np={cat2pvalue[t]:.2f}\" for t in answer_df['category'].unique()]\n",
    "\n",
    "g.set_xticklabels(labels)\n",
    "\n",
    "plt.xticks(rotation=90)\n",
    "# show display topics on labels\n",
    "plt.xlabel('Category\\n(p < 0.10)')\n",
    "plt.ylabel('Accuracy\\n(95% CI)')\n",
    "\n",
    "plt.title('Accuracy by Supercategory')\n",
    "\n",
    "plt.tight_layout()\n",
    "plt.savefig('../figures/model_accuracy_by_category.png')\n",
    "plt.show()"
   ]
  },
  {
   "cell_type": "code",
   "execution_count": null,
   "metadata": {},
   "outputs": [],
   "source": [
    "scratchpad_df['is_correct'] = scratchpad_df['answer'] == scratchpad_df['correct_answer']\n",
    "baseline_df['is_correct'] = baseline_df['answer'] == baseline_df['correct_answer']\n",
    "# ttest of difference of means\n",
    "from scipy.stats import ttest_ind"
   ]
  },
  {
   "cell_type": "code",
   "execution_count": null,
   "metadata": {},
   "outputs": [],
   "source": [
    "# 95% confidence of scratchpad accuracy\n",
    "scratchpad_acc = scratchpad_df['is_correct'].mean()\n",
    "scratchpad_std = scratchpad_df['is_correct'].std()\n",
    "scratchpad_n = scratchpad_df['is_correct'].count()\n",
    "scratchpad_ci = 1.96 * scratchpad_std / math.sqrt(scratchpad_n)\n",
    "print(f'Scratchpad accuracy: {scratchpad_acc:.3f} +/- {scratchpad_ci:.3f}')"
   ]
  },
  {
   "cell_type": "code",
   "execution_count": null,
   "metadata": {},
   "outputs": [],
   "source": [
    "# calculate correlation\n",
    "spearmanr(scratchpad_df['is_correct'], baseline_df['is_correct'])"
   ]
  }
 ],
 "metadata": {
  "kernelspec": {
   "display_name": "Python 3 (ipykernel)",
   "language": "python",
   "name": "python3"
  },
  "language_info": {
   "codemirror_mode": {
    "name": "ipython",
    "version": 3
   },
   "file_extension": ".py",
   "mimetype": "text/x-python",
   "name": "python",
   "nbconvert_exporter": "python",
   "pygments_lexer": "ipython3",
   "version": "3.8.8"
  },
  "vscode": {
   "interpreter": {
    "hash": "adea540253e8e8f708a1ef36fc3af2830fee8642e0041a914a62b471ba922451"
   }
  }
 },
 "nbformat": 4,
 "nbformat_minor": 2
}
