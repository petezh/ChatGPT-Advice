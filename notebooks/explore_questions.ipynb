{
 "cells": [
  {
   "attachments": {},
   "cell_type": "markdown",
   "metadata": {},
   "source": [
    "Explore Questions\n",
    "---\n",
    "Author: Peter Zhang\n",
    "\n",
    "This notebook creates some summary stats for topics."
   ]
  },
  {
   "cell_type": "code",
   "execution_count": 7,
   "metadata": {},
   "outputs": [],
   "source": [
    "import pandas as pd\n",
    "\n",
    "import config"
   ]
  },
  {
   "cell_type": "code",
   "execution_count": 8,
   "metadata": {},
   "outputs": [
    {
     "data": {
      "text/plain": [
       "688"
      ]
     },
     "execution_count": 8,
     "metadata": {},
     "output_type": "execute_result"
    }
   ],
   "source": [
    "df = pd.read_csv('../data/benchmark_samples/hendrycks_sample_0421.csv')\n",
    "len(df)"
   ]
  },
  {
   "cell_type": "code",
   "execution_count": 9,
   "metadata": {},
   "outputs": [
    {
     "name": "stderr",
     "output_type": "stream",
     "text": [
      "/var/folders/xd/l62jq5mx63qdtc0pktr47qrh0000gn/T/ipykernel_33846/170021152.py:11: FutureWarning: In future versions `DataFrame.to_latex` is expected to utilise the base implementation of `Styler.to_latex` for formatting and rendering. The arguments signature may therefore change. It is recommended instead to use `DataFrame.style.to_latex` which also contains additional functionality.\n",
      "  topic_df.to_latex('../tables/topic_counts.tex', index=False)\n"
     ]
    }
   ],
   "source": [
    "col_mapper = {\n",
    "    \"topic\":\"Topic/Task\",\n",
    "    \"question\":\"Question Count\",\n",
    "    \"familiarity_topic\":\"Familiarity Topic\"\n",
    "}\n",
    "topic_df = pd.DataFrame(df.groupby(\"topic\")[\"question\"].count().reset_index())\n",
    "topic_df['description'] = topic_df['topic'].apply(config.topic2description.get)\n",
    "topic_df['familiarity_topic'] = topic_df['topic'].apply(config.topic2fam_topic.get)\n",
    "topic_df['topic'] = topic_df['topic'].apply(config.topic2display.get)\n",
    "topic_df.rename(columns=col_mapper, inplace=True)\n",
    "topic_df.to_latex('../tables/topic_counts.tex', index=False)"
   ]
  }
 ],
 "metadata": {
  "kernelspec": {
   "display_name": "Python 3 (ipykernel)",
   "language": "python",
   "name": "python3"
  },
  "language_info": {
   "codemirror_mode": {
    "name": "ipython",
    "version": 3
   },
   "file_extension": ".py",
   "mimetype": "text/x-python",
   "name": "python",
   "nbconvert_exporter": "python",
   "pygments_lexer": "ipython3",
   "version": "3.8.8"
  },
  "vscode": {
   "interpreter": {
    "hash": "adea540253e8e8f708a1ef36fc3af2830fee8642e0041a914a62b471ba922451"
   }
  }
 },
 "nbformat": 4,
 "nbformat_minor": 2
}
